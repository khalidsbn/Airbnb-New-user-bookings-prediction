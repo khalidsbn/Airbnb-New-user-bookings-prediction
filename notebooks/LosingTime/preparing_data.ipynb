{
 "cells": [
  {
   "cell_type": "markdown",
   "metadata": {
    "id": "miWufX5oLuBj"
   },
   "source": [
    "# Importing dataset"
   ]
  },
  {
   "cell_type": "code",
   "execution_count": 294,
   "metadata": {
    "id": "0eZVcy3XV4Ns"
   },
   "outputs": [],
   "source": [
    "import pandas as pd\n",
    "import numpy as np\n",
    "import random\n",
    "\n",
    "import warnings\n",
    "warnings.filterwarnings('ignore')"
   ]
  },
  {
   "cell_type": "code",
   "execution_count": 295,
   "metadata": {
    "colab": {
     "base_uri": "https://localhost:8080/",
     "height": 547
    },
    "id": "jkfkNfj6V9iy",
    "outputId": "8cd663e9-6369-4826-d4a5-2d0b4e8b5365"
   },
   "outputs": [
    {
     "data": {
      "text/html": [
       "<div>\n",
       "<style scoped>\n",
       "    .dataframe tbody tr th:only-of-type {\n",
       "        vertical-align: middle;\n",
       "    }\n",
       "\n",
       "    .dataframe tbody tr th {\n",
       "        vertical-align: top;\n",
       "    }\n",
       "\n",
       "    .dataframe thead th {\n",
       "        text-align: right;\n",
       "    }\n",
       "</style>\n",
       "<table border=\"1\" class=\"dataframe\">\n",
       "  <thead>\n",
       "    <tr style=\"text-align: right;\">\n",
       "      <th></th>\n",
       "      <th>id</th>\n",
       "      <th>date_account_created</th>\n",
       "      <th>timestamp_first_active</th>\n",
       "      <th>date_first_booking</th>\n",
       "      <th>gender</th>\n",
       "      <th>age</th>\n",
       "      <th>signup_method</th>\n",
       "      <th>signup_flow</th>\n",
       "      <th>language</th>\n",
       "      <th>affiliate_channel</th>\n",
       "      <th>affiliate_provider</th>\n",
       "      <th>first_affiliate_tracked</th>\n",
       "      <th>signup_app</th>\n",
       "      <th>first_device_type</th>\n",
       "      <th>first_browser</th>\n",
       "      <th>country_destination</th>\n",
       "    </tr>\n",
       "  </thead>\n",
       "  <tbody>\n",
       "    <tr>\n",
       "      <th>0</th>\n",
       "      <td>gxn3p5htnn</td>\n",
       "      <td>2010-06-28</td>\n",
       "      <td>20090319043255</td>\n",
       "      <td>NaT</td>\n",
       "      <td>-unknown-</td>\n",
       "      <td>NaN</td>\n",
       "      <td>facebook</td>\n",
       "      <td>0</td>\n",
       "      <td>en</td>\n",
       "      <td>direct</td>\n",
       "      <td>direct</td>\n",
       "      <td>untracked</td>\n",
       "      <td>Web</td>\n",
       "      <td>Mac Desktop</td>\n",
       "      <td>Chrome</td>\n",
       "      <td>NDF</td>\n",
       "    </tr>\n",
       "    <tr>\n",
       "      <th>1</th>\n",
       "      <td>820tgsjxq7</td>\n",
       "      <td>2011-05-25</td>\n",
       "      <td>20090523174809</td>\n",
       "      <td>NaT</td>\n",
       "      <td>MALE</td>\n",
       "      <td>38.0</td>\n",
       "      <td>facebook</td>\n",
       "      <td>0</td>\n",
       "      <td>en</td>\n",
       "      <td>seo</td>\n",
       "      <td>google</td>\n",
       "      <td>untracked</td>\n",
       "      <td>Web</td>\n",
       "      <td>Mac Desktop</td>\n",
       "      <td>Chrome</td>\n",
       "      <td>NDF</td>\n",
       "    </tr>\n",
       "    <tr>\n",
       "      <th>2</th>\n",
       "      <td>4ft3gnwmtx</td>\n",
       "      <td>2010-09-28</td>\n",
       "      <td>20090609231247</td>\n",
       "      <td>2010-08-02</td>\n",
       "      <td>FEMALE</td>\n",
       "      <td>56.0</td>\n",
       "      <td>basic</td>\n",
       "      <td>3</td>\n",
       "      <td>en</td>\n",
       "      <td>direct</td>\n",
       "      <td>direct</td>\n",
       "      <td>untracked</td>\n",
       "      <td>Web</td>\n",
       "      <td>Windows Desktop</td>\n",
       "      <td>IE</td>\n",
       "      <td>US</td>\n",
       "    </tr>\n",
       "    <tr>\n",
       "      <th>3</th>\n",
       "      <td>bjjt8pjhuk</td>\n",
       "      <td>2011-12-05</td>\n",
       "      <td>20091031060129</td>\n",
       "      <td>2012-09-08</td>\n",
       "      <td>FEMALE</td>\n",
       "      <td>42.0</td>\n",
       "      <td>facebook</td>\n",
       "      <td>0</td>\n",
       "      <td>en</td>\n",
       "      <td>direct</td>\n",
       "      <td>direct</td>\n",
       "      <td>untracked</td>\n",
       "      <td>Web</td>\n",
       "      <td>Mac Desktop</td>\n",
       "      <td>Firefox</td>\n",
       "      <td>other</td>\n",
       "    </tr>\n",
       "    <tr>\n",
       "      <th>4</th>\n",
       "      <td>87mebub9p4</td>\n",
       "      <td>2010-09-14</td>\n",
       "      <td>20091208061105</td>\n",
       "      <td>2010-02-18</td>\n",
       "      <td>-unknown-</td>\n",
       "      <td>41.0</td>\n",
       "      <td>basic</td>\n",
       "      <td>0</td>\n",
       "      <td>en</td>\n",
       "      <td>direct</td>\n",
       "      <td>direct</td>\n",
       "      <td>untracked</td>\n",
       "      <td>Web</td>\n",
       "      <td>Mac Desktop</td>\n",
       "      <td>Chrome</td>\n",
       "      <td>US</td>\n",
       "    </tr>\n",
       "    <tr>\n",
       "      <th>...</th>\n",
       "      <td>...</td>\n",
       "      <td>...</td>\n",
       "      <td>...</td>\n",
       "      <td>...</td>\n",
       "      <td>...</td>\n",
       "      <td>...</td>\n",
       "      <td>...</td>\n",
       "      <td>...</td>\n",
       "      <td>...</td>\n",
       "      <td>...</td>\n",
       "      <td>...</td>\n",
       "      <td>...</td>\n",
       "      <td>...</td>\n",
       "      <td>...</td>\n",
       "      <td>...</td>\n",
       "      <td>...</td>\n",
       "    </tr>\n",
       "    <tr>\n",
       "      <th>213446</th>\n",
       "      <td>zxodksqpep</td>\n",
       "      <td>2014-06-30</td>\n",
       "      <td>20140630235636</td>\n",
       "      <td>NaT</td>\n",
       "      <td>MALE</td>\n",
       "      <td>32.0</td>\n",
       "      <td>basic</td>\n",
       "      <td>0</td>\n",
       "      <td>en</td>\n",
       "      <td>sem-brand</td>\n",
       "      <td>google</td>\n",
       "      <td>omg</td>\n",
       "      <td>Web</td>\n",
       "      <td>Mac Desktop</td>\n",
       "      <td>Safari</td>\n",
       "      <td>NDF</td>\n",
       "    </tr>\n",
       "    <tr>\n",
       "      <th>213447</th>\n",
       "      <td>mhewnxesx9</td>\n",
       "      <td>2014-06-30</td>\n",
       "      <td>20140630235719</td>\n",
       "      <td>NaT</td>\n",
       "      <td>-unknown-</td>\n",
       "      <td>NaN</td>\n",
       "      <td>basic</td>\n",
       "      <td>0</td>\n",
       "      <td>en</td>\n",
       "      <td>direct</td>\n",
       "      <td>direct</td>\n",
       "      <td>linked</td>\n",
       "      <td>Web</td>\n",
       "      <td>Windows Desktop</td>\n",
       "      <td>Chrome</td>\n",
       "      <td>NDF</td>\n",
       "    </tr>\n",
       "    <tr>\n",
       "      <th>213448</th>\n",
       "      <td>6o3arsjbb4</td>\n",
       "      <td>2014-06-30</td>\n",
       "      <td>20140630235754</td>\n",
       "      <td>NaT</td>\n",
       "      <td>-unknown-</td>\n",
       "      <td>32.0</td>\n",
       "      <td>basic</td>\n",
       "      <td>0</td>\n",
       "      <td>en</td>\n",
       "      <td>direct</td>\n",
       "      <td>direct</td>\n",
       "      <td>untracked</td>\n",
       "      <td>Web</td>\n",
       "      <td>Mac Desktop</td>\n",
       "      <td>Firefox</td>\n",
       "      <td>NDF</td>\n",
       "    </tr>\n",
       "    <tr>\n",
       "      <th>213449</th>\n",
       "      <td>jh95kwisub</td>\n",
       "      <td>2014-06-30</td>\n",
       "      <td>20140630235822</td>\n",
       "      <td>NaT</td>\n",
       "      <td>-unknown-</td>\n",
       "      <td>NaN</td>\n",
       "      <td>basic</td>\n",
       "      <td>25</td>\n",
       "      <td>en</td>\n",
       "      <td>other</td>\n",
       "      <td>other</td>\n",
       "      <td>tracked-other</td>\n",
       "      <td>iOS</td>\n",
       "      <td>iPhone</td>\n",
       "      <td>Mobile Safari</td>\n",
       "      <td>NDF</td>\n",
       "    </tr>\n",
       "    <tr>\n",
       "      <th>213450</th>\n",
       "      <td>nw9fwlyb5f</td>\n",
       "      <td>2014-06-30</td>\n",
       "      <td>20140630235824</td>\n",
       "      <td>NaT</td>\n",
       "      <td>-unknown-</td>\n",
       "      <td>NaN</td>\n",
       "      <td>basic</td>\n",
       "      <td>25</td>\n",
       "      <td>en</td>\n",
       "      <td>direct</td>\n",
       "      <td>direct</td>\n",
       "      <td>untracked</td>\n",
       "      <td>iOS</td>\n",
       "      <td>iPhone</td>\n",
       "      <td>-unknown-</td>\n",
       "      <td>NDF</td>\n",
       "    </tr>\n",
       "  </tbody>\n",
       "</table>\n",
       "<p>213451 rows × 16 columns</p>\n",
       "</div>"
      ],
      "text/plain": [
       "                id date_account_created  timestamp_first_active  \\\n",
       "0       gxn3p5htnn           2010-06-28          20090319043255   \n",
       "1       820tgsjxq7           2011-05-25          20090523174809   \n",
       "2       4ft3gnwmtx           2010-09-28          20090609231247   \n",
       "3       bjjt8pjhuk           2011-12-05          20091031060129   \n",
       "4       87mebub9p4           2010-09-14          20091208061105   \n",
       "...            ...                  ...                     ...   \n",
       "213446  zxodksqpep           2014-06-30          20140630235636   \n",
       "213447  mhewnxesx9           2014-06-30          20140630235719   \n",
       "213448  6o3arsjbb4           2014-06-30          20140630235754   \n",
       "213449  jh95kwisub           2014-06-30          20140630235822   \n",
       "213450  nw9fwlyb5f           2014-06-30          20140630235824   \n",
       "\n",
       "       date_first_booking     gender   age signup_method  signup_flow  \\\n",
       "0                     NaT  -unknown-   NaN      facebook            0   \n",
       "1                     NaT       MALE  38.0      facebook            0   \n",
       "2              2010-08-02     FEMALE  56.0         basic            3   \n",
       "3              2012-09-08     FEMALE  42.0      facebook            0   \n",
       "4              2010-02-18  -unknown-  41.0         basic            0   \n",
       "...                   ...        ...   ...           ...          ...   \n",
       "213446                NaT       MALE  32.0         basic            0   \n",
       "213447                NaT  -unknown-   NaN         basic            0   \n",
       "213448                NaT  -unknown-  32.0         basic            0   \n",
       "213449                NaT  -unknown-   NaN         basic           25   \n",
       "213450                NaT  -unknown-   NaN         basic           25   \n",
       "\n",
       "       language affiliate_channel affiliate_provider first_affiliate_tracked  \\\n",
       "0            en            direct             direct               untracked   \n",
       "1            en               seo             google               untracked   \n",
       "2            en            direct             direct               untracked   \n",
       "3            en            direct             direct               untracked   \n",
       "4            en            direct             direct               untracked   \n",
       "...         ...               ...                ...                     ...   \n",
       "213446       en         sem-brand             google                     omg   \n",
       "213447       en            direct             direct                  linked   \n",
       "213448       en            direct             direct               untracked   \n",
       "213449       en             other              other           tracked-other   \n",
       "213450       en            direct             direct               untracked   \n",
       "\n",
       "       signup_app first_device_type  first_browser country_destination  \n",
       "0             Web       Mac Desktop         Chrome                 NDF  \n",
       "1             Web       Mac Desktop         Chrome                 NDF  \n",
       "2             Web   Windows Desktop             IE                  US  \n",
       "3             Web       Mac Desktop        Firefox               other  \n",
       "4             Web       Mac Desktop         Chrome                  US  \n",
       "...           ...               ...            ...                 ...  \n",
       "213446        Web       Mac Desktop         Safari                 NDF  \n",
       "213447        Web   Windows Desktop         Chrome                 NDF  \n",
       "213448        Web       Mac Desktop        Firefox                 NDF  \n",
       "213449        iOS            iPhone  Mobile Safari                 NDF  \n",
       "213450        iOS            iPhone      -unknown-                 NDF  \n",
       "\n",
       "[213451 rows x 16 columns]"
      ]
     },
     "execution_count": 295,
     "metadata": {},
     "output_type": "execute_result"
    }
   ],
   "source": [
    "df = pd.read_csv('../app/data/train_users_2.csv', parse_dates=[1,3])\n",
    "df"
   ]
  },
  {
   "cell_type": "markdown",
   "metadata": {},
   "source": [
    "* First I am gonna delete the useless features that help use to decide if a user gonna book or just gonna lose his time so best for him to delete the app."
   ]
  },
  {
   "cell_type": "code",
   "execution_count": 296,
   "metadata": {},
   "outputs": [],
   "source": [
    "df = df.drop(['id', 'timestamp_first_active', 'date_first_booking', 'signup_flow', 'affiliate_channel'], axis=1)"
   ]
  },
  {
   "cell_type": "code",
   "execution_count": 297,
   "metadata": {},
   "outputs": [],
   "source": [
    "df = df.dropna(subset=['age'])"
   ]
  },
  {
   "cell_type": "code",
   "execution_count": 298,
   "metadata": {},
   "outputs": [
    {
     "name": "stdout",
     "output_type": "stream",
     "text": [
      "\n"
     ]
    }
   ],
   "source": [
    "\"\"\"\n",
    "for i in ['gender', 'signup_method', 'language', 'affiliate_provider', 'first_affiliate_tracked', 'signup_app', 'first_device_type', 'first_browser', 'country_destination']:\n",
    "    print(df[i].value_counts(normalize=True))\n",
    "    print('********************')\n",
    "    \n",
    "for i in ['gender', 'signup_method', 'language', 'affiliate_provider', 'first_affiliate_tracked', 'signup_app', 'first_device_type', 'first_browser', 'country_destination']:\n",
    "    print(new_df[i].value_counts(normalize=True))\n",
    "    print('********************')\n",
    "    \n",
    "\"\"\"\n",
    "print('')"
   ]
  },
  {
   "cell_type": "markdown",
   "metadata": {},
   "source": [
    "After deleting the users that have nan value in age and checking if it is any change of diversity of the other features, it is almost the same. "
   ]
  },
  {
   "cell_type": "markdown",
   "metadata": {
    "id": "zeYhZlHY1PgY"
   },
   "source": [
    "# Numerical features"
   ]
  },
  {
   "cell_type": "code",
   "execution_count": 299,
   "metadata": {
    "colab": {
     "base_uri": "https://localhost:8080/",
     "height": 423
    },
    "id": "fJfYnBQrdjNE",
    "outputId": "7eeff4b4-9554-462d-edb9-79c3d65f628b"
   },
   "outputs": [
    {
     "data": {
      "text/html": [
       "<div>\n",
       "<style scoped>\n",
       "    .dataframe tbody tr th:only-of-type {\n",
       "        vertical-align: middle;\n",
       "    }\n",
       "\n",
       "    .dataframe tbody tr th {\n",
       "        vertical-align: top;\n",
       "    }\n",
       "\n",
       "    .dataframe thead th {\n",
       "        text-align: right;\n",
       "    }\n",
       "</style>\n",
       "<table border=\"1\" class=\"dataframe\">\n",
       "  <thead>\n",
       "    <tr style=\"text-align: right;\">\n",
       "      <th></th>\n",
       "      <th>date_account_created</th>\n",
       "    </tr>\n",
       "  </thead>\n",
       "  <tbody>\n",
       "    <tr>\n",
       "      <th>1</th>\n",
       "      <td>2011-05-25</td>\n",
       "    </tr>\n",
       "    <tr>\n",
       "      <th>2</th>\n",
       "      <td>2010-09-28</td>\n",
       "    </tr>\n",
       "    <tr>\n",
       "      <th>3</th>\n",
       "      <td>2011-12-05</td>\n",
       "    </tr>\n",
       "    <tr>\n",
       "      <th>4</th>\n",
       "      <td>2010-09-14</td>\n",
       "    </tr>\n",
       "    <tr>\n",
       "      <th>6</th>\n",
       "      <td>2010-01-02</td>\n",
       "    </tr>\n",
       "    <tr>\n",
       "      <th>...</th>\n",
       "      <td>...</td>\n",
       "    </tr>\n",
       "    <tr>\n",
       "      <th>213441</th>\n",
       "      <td>2014-06-30</td>\n",
       "    </tr>\n",
       "    <tr>\n",
       "      <th>213443</th>\n",
       "      <td>2014-06-30</td>\n",
       "    </tr>\n",
       "    <tr>\n",
       "      <th>213445</th>\n",
       "      <td>2014-06-30</td>\n",
       "    </tr>\n",
       "    <tr>\n",
       "      <th>213446</th>\n",
       "      <td>2014-06-30</td>\n",
       "    </tr>\n",
       "    <tr>\n",
       "      <th>213448</th>\n",
       "      <td>2014-06-30</td>\n",
       "    </tr>\n",
       "  </tbody>\n",
       "</table>\n",
       "<p>125461 rows × 1 columns</p>\n",
       "</div>"
      ],
      "text/plain": [
       "       date_account_created\n",
       "1                2011-05-25\n",
       "2                2010-09-28\n",
       "3                2011-12-05\n",
       "4                2010-09-14\n",
       "6                2010-01-02\n",
       "...                     ...\n",
       "213441           2014-06-30\n",
       "213443           2014-06-30\n",
       "213445           2014-06-30\n",
       "213446           2014-06-30\n",
       "213448           2014-06-30\n",
       "\n",
       "[125461 rows x 1 columns]"
      ]
     },
     "execution_count": 299,
     "metadata": {},
     "output_type": "execute_result"
    }
   ],
   "source": [
    "df[df.select_dtypes('datetime').columns]"
   ]
  },
  {
   "cell_type": "code",
   "execution_count": 300,
   "metadata": {
    "id": "5AB1aRl2d_yF"
   },
   "outputs": [],
   "source": [
    "df['year_account_created'] = df.date_account_created.dt.year\n",
    "df['month_account_created'] = df.date_account_created.dt.month\n",
    "\n",
    "df = df.drop('date_account_created', axis=1)"
   ]
  },
  {
   "cell_type": "code",
   "execution_count": 301,
   "metadata": {
    "colab": {
     "base_uri": "https://localhost:8080/"
    },
    "id": "sAwTa0MhxbLc",
    "outputId": "a79cbc1a-3017-4db6-9845-fba7170ef375"
   },
   "outputs": [
    {
     "data": {
      "text/plain": [
       "age                      0\n",
       "year_account_created     0\n",
       "month_account_created    0\n",
       "dtype: int64"
      ]
     },
     "execution_count": 301,
     "metadata": {},
     "output_type": "execute_result"
    }
   ],
   "source": [
    "num_cols = df.select_dtypes('number').columns\n",
    "\n",
    "df[num_cols].isna().sum()"
   ]
  },
  {
   "cell_type": "code",
   "execution_count": 302,
   "metadata": {
    "colab": {
     "base_uri": "https://localhost:8080/"
    },
    "id": "cdwU94zCGGel",
    "outputId": "34a50c53-2fac-41e6-be3b-6a1214ba4bf4"
   },
   "outputs": [
    {
     "data": {
      "text/html": [
       "<div>\n",
       "<style scoped>\n",
       "    .dataframe tbody tr th:only-of-type {\n",
       "        vertical-align: middle;\n",
       "    }\n",
       "\n",
       "    .dataframe tbody tr th {\n",
       "        vertical-align: top;\n",
       "    }\n",
       "\n",
       "    .dataframe thead th {\n",
       "        text-align: right;\n",
       "    }\n",
       "</style>\n",
       "<table border=\"1\" class=\"dataframe\">\n",
       "  <thead>\n",
       "    <tr style=\"text-align: right;\">\n",
       "      <th></th>\n",
       "      <th>age</th>\n",
       "      <th>year_account_created</th>\n",
       "      <th>month_account_created</th>\n",
       "    </tr>\n",
       "  </thead>\n",
       "  <tbody>\n",
       "    <tr>\n",
       "      <th>1</th>\n",
       "      <td>38.0</td>\n",
       "      <td>2011</td>\n",
       "      <td>5</td>\n",
       "    </tr>\n",
       "    <tr>\n",
       "      <th>2</th>\n",
       "      <td>56.0</td>\n",
       "      <td>2010</td>\n",
       "      <td>9</td>\n",
       "    </tr>\n",
       "    <tr>\n",
       "      <th>3</th>\n",
       "      <td>42.0</td>\n",
       "      <td>2011</td>\n",
       "      <td>12</td>\n",
       "    </tr>\n",
       "    <tr>\n",
       "      <th>4</th>\n",
       "      <td>41.0</td>\n",
       "      <td>2010</td>\n",
       "      <td>9</td>\n",
       "    </tr>\n",
       "    <tr>\n",
       "      <th>6</th>\n",
       "      <td>46.0</td>\n",
       "      <td>2010</td>\n",
       "      <td>1</td>\n",
       "    </tr>\n",
       "    <tr>\n",
       "      <th>...</th>\n",
       "      <td>...</td>\n",
       "      <td>...</td>\n",
       "      <td>...</td>\n",
       "    </tr>\n",
       "    <tr>\n",
       "      <th>213441</th>\n",
       "      <td>34.0</td>\n",
       "      <td>2014</td>\n",
       "      <td>6</td>\n",
       "    </tr>\n",
       "    <tr>\n",
       "      <th>213443</th>\n",
       "      <td>36.0</td>\n",
       "      <td>2014</td>\n",
       "      <td>6</td>\n",
       "    </tr>\n",
       "    <tr>\n",
       "      <th>213445</th>\n",
       "      <td>23.0</td>\n",
       "      <td>2014</td>\n",
       "      <td>6</td>\n",
       "    </tr>\n",
       "    <tr>\n",
       "      <th>213446</th>\n",
       "      <td>32.0</td>\n",
       "      <td>2014</td>\n",
       "      <td>6</td>\n",
       "    </tr>\n",
       "    <tr>\n",
       "      <th>213448</th>\n",
       "      <td>32.0</td>\n",
       "      <td>2014</td>\n",
       "      <td>6</td>\n",
       "    </tr>\n",
       "  </tbody>\n",
       "</table>\n",
       "<p>125461 rows × 3 columns</p>\n",
       "</div>"
      ],
      "text/plain": [
       "         age  year_account_created  month_account_created\n",
       "1       38.0                  2011                      5\n",
       "2       56.0                  2010                      9\n",
       "3       42.0                  2011                     12\n",
       "4       41.0                  2010                      9\n",
       "6       46.0                  2010                      1\n",
       "...      ...                   ...                    ...\n",
       "213441  34.0                  2014                      6\n",
       "213443  36.0                  2014                      6\n",
       "213445  23.0                  2014                      6\n",
       "213446  32.0                  2014                      6\n",
       "213448  32.0                  2014                      6\n",
       "\n",
       "[125461 rows x 3 columns]"
      ]
     },
     "execution_count": 302,
     "metadata": {},
     "output_type": "execute_result"
    }
   ],
   "source": [
    "df[df.select_dtypes('number').columns]"
   ]
  },
  {
   "cell_type": "code",
   "execution_count": 303,
   "metadata": {
    "colab": {
     "base_uri": "https://localhost:8080/"
    },
    "id": "TcA7k7mW8gUB",
    "outputId": "062ee8f4-f7f1-4e57-b1db-c11b2a72aa6f"
   },
   "outputs": [
    {
     "data": {
      "text/html": [
       "<style type=\"text/css\">\n",
       "#T_ffc98_row0_col0, #T_ffc98_row1_col1, #T_ffc98_row2_col2 {\n",
       "  background-color: #b40426;\n",
       "  color: #f1f1f1;\n",
       "}\n",
       "#T_ffc98_row0_col1 {\n",
       "  background-color: #97b8ff;\n",
       "  color: #000000;\n",
       "}\n",
       "#T_ffc98_row0_col2 {\n",
       "  background-color: #a1c0ff;\n",
       "  color: #000000;\n",
       "}\n",
       "#T_ffc98_row1_col0, #T_ffc98_row1_col2, #T_ffc98_row2_col1 {\n",
       "  background-color: #3b4cc0;\n",
       "  color: #f1f1f1;\n",
       "}\n",
       "#T_ffc98_row2_col0 {\n",
       "  background-color: #455cce;\n",
       "  color: #f1f1f1;\n",
       "}\n",
       "</style>\n",
       "<table id=\"T_ffc98\">\n",
       "  <thead>\n",
       "    <tr>\n",
       "      <th class=\"blank level0\" >&nbsp;</th>\n",
       "      <th id=\"T_ffc98_level0_col0\" class=\"col_heading level0 col0\" >age</th>\n",
       "      <th id=\"T_ffc98_level0_col1\" class=\"col_heading level0 col1\" >year_account_created</th>\n",
       "      <th id=\"T_ffc98_level0_col2\" class=\"col_heading level0 col2\" >month_account_created</th>\n",
       "    </tr>\n",
       "  </thead>\n",
       "  <tbody>\n",
       "    <tr>\n",
       "      <th id=\"T_ffc98_level0_row0\" class=\"row_heading level0 row0\" >age</th>\n",
       "      <td id=\"T_ffc98_row0_col0\" class=\"data row0 col0\" >1.000000</td>\n",
       "      <td id=\"T_ffc98_row0_col1\" class=\"data row0 col1\" >-0.035580</td>\n",
       "      <td id=\"T_ffc98_row0_col2\" class=\"data row0 col2\" >0.001388</td>\n",
       "    </tr>\n",
       "    <tr>\n",
       "      <th id=\"T_ffc98_level0_row1\" class=\"row_heading level0 row1\" >year_account_created</th>\n",
       "      <td id=\"T_ffc98_row1_col0\" class=\"data row1 col0\" >-0.035580</td>\n",
       "      <td id=\"T_ffc98_row1_col1\" class=\"data row1 col1\" >1.000000</td>\n",
       "      <td id=\"T_ffc98_row1_col2\" class=\"data row1 col2\" >-0.437561</td>\n",
       "    </tr>\n",
       "    <tr>\n",
       "      <th id=\"T_ffc98_level0_row2\" class=\"row_heading level0 row2\" >month_account_created</th>\n",
       "      <td id=\"T_ffc98_row2_col0\" class=\"data row2 col0\" >0.001388</td>\n",
       "      <td id=\"T_ffc98_row2_col1\" class=\"data row2 col1\" >-0.437561</td>\n",
       "      <td id=\"T_ffc98_row2_col2\" class=\"data row2 col2\" >1.000000</td>\n",
       "    </tr>\n",
       "  </tbody>\n",
       "</table>\n"
      ],
      "text/plain": [
       "<pandas.io.formats.style.Styler at 0x129cdd290>"
      ]
     },
     "execution_count": 303,
     "metadata": {},
     "output_type": "execute_result"
    }
   ],
   "source": [
    "df[num_cols].corr().style.background_gradient(cmap='coolwarm')"
   ]
  },
  {
   "cell_type": "markdown",
   "metadata": {
    "id": "8gF7rVxM1f-9"
   },
   "source": [
    "# Object features:"
   ]
  },
  {
   "cell_type": "code",
   "execution_count": 304,
   "metadata": {
    "id": "8N0INadWMmSc"
   },
   "outputs": [],
   "source": [
    "# Feature selection (categorical features)\n",
    "cat_cols = df.select_dtypes('object').columns.tolist()\n",
    "\n",
    "cat_cols.remove('country_destination')"
   ]
  },
  {
   "cell_type": "code",
   "execution_count": 305,
   "metadata": {
    "colab": {
     "base_uri": "https://localhost:8080/"
    },
    "id": "dMkONdH_uyFD",
    "outputId": "b7526a2a-2efd-488b-97a4-52f271d865f3"
   },
   "outputs": [
    {
     "data": {
      "text/plain": [
       "gender                        0\n",
       "signup_method                 0\n",
       "language                      0\n",
       "affiliate_provider            0\n",
       "first_affiliate_tracked    2032\n",
       "signup_app                    0\n",
       "first_device_type             0\n",
       "first_browser                 0\n",
       "dtype: int64"
      ]
     },
     "execution_count": 305,
     "metadata": {},
     "output_type": "execute_result"
    }
   ],
   "source": [
    "df[cat_cols].isna().sum()"
   ]
  },
  {
   "cell_type": "markdown",
   "metadata": {
    "id": "2qIg-vMD1lua"
   },
   "source": [
    "***Affiliate tracked***"
   ]
  },
  {
   "cell_type": "code",
   "execution_count": 306,
   "metadata": {
    "id": "t2tzKXhpgH7j"
   },
   "outputs": [],
   "source": [
    "df['first_affiliate_tracked'] = new_df.first_affiliate_tracked.fillna(new_df.first_affiliate_tracked.mode().iloc[0])"
   ]
  },
  {
   "cell_type": "markdown",
   "metadata": {
    "id": "uvsfry3b1iiv"
   },
   "source": [
    "***Gender***"
   ]
  },
  {
   "cell_type": "code",
   "execution_count": 307,
   "metadata": {
    "colab": {
     "base_uri": "https://localhost:8080/"
    },
    "id": "rMqlHVQf6kfN",
    "outputId": "cf8e042f-4ed2-4bb3-a6e2-6dad28e02829"
   },
   "outputs": [
    {
     "data": {
      "text/plain": [
       "(gender\n",
       " FEMALE       0.460007\n",
       " MALE         0.403926\n",
       " -unknown-    0.134249\n",
       " OTHER        0.001817\n",
       " Name: proportion, dtype: float64,\n",
       " gender\n",
       " FEMALE       57713\n",
       " MALE         50677\n",
       " -unknown-    16843\n",
       " OTHER          228\n",
       " Name: count, dtype: int64)"
      ]
     },
     "execution_count": 307,
     "metadata": {},
     "output_type": "execute_result"
    }
   ],
   "source": [
    "df.gender.value_counts(normalize=True), df.gender.value_counts()"
   ]
  },
  {
   "cell_type": "code",
   "execution_count": 308,
   "metadata": {
    "id": "fiONotlQf68X"
   },
   "outputs": [],
   "source": [
    "\"\"\"\n",
    "df.loc[df.gender.isin(['OTHER','-unknown-']), 'gender'] = np.nan\n",
    "proba = df.gender.value_counts(normalize=True)\n",
    "rep = np.random.choice(['FEMALE', 'MALE'], df.shape[0], p = proba)\n",
    "df['gender'] = df.gender.fillna(pd.Series(rep))\n",
    "\"\"\"\n",
    "df.loc[df.gender.isin(['OTHER','-unknown-']), 'gender'] = np.nan\n",
    "df = df.dropna(subset=['gender'])"
   ]
  },
  {
   "cell_type": "code",
   "execution_count": 309,
   "metadata": {
    "colab": {
     "base_uri": "https://localhost:8080/"
    },
    "id": "Zxfsyf-WpBpn",
    "outputId": "3eec8f3a-c00a-4253-ae57-d16d9ff63156"
   },
   "outputs": [
    {
     "data": {
      "text/html": [
       "<div>\n",
       "<style scoped>\n",
       "    .dataframe tbody tr th:only-of-type {\n",
       "        vertical-align: middle;\n",
       "    }\n",
       "\n",
       "    .dataframe tbody tr th {\n",
       "        vertical-align: top;\n",
       "    }\n",
       "\n",
       "    .dataframe thead th {\n",
       "        text-align: right;\n",
       "    }\n",
       "</style>\n",
       "<table border=\"1\" class=\"dataframe\">\n",
       "  <thead>\n",
       "    <tr style=\"text-align: right;\">\n",
       "      <th></th>\n",
       "      <th>gender</th>\n",
       "      <th>signup_method</th>\n",
       "      <th>language</th>\n",
       "      <th>affiliate_provider</th>\n",
       "      <th>first_affiliate_tracked</th>\n",
       "      <th>signup_app</th>\n",
       "      <th>first_device_type</th>\n",
       "      <th>first_browser</th>\n",
       "    </tr>\n",
       "  </thead>\n",
       "  <tbody>\n",
       "    <tr>\n",
       "      <th>1</th>\n",
       "      <td>MALE</td>\n",
       "      <td>facebook</td>\n",
       "      <td>en</td>\n",
       "      <td>google</td>\n",
       "      <td>untracked</td>\n",
       "      <td>Web</td>\n",
       "      <td>Mac Desktop</td>\n",
       "      <td>Chrome</td>\n",
       "    </tr>\n",
       "    <tr>\n",
       "      <th>2</th>\n",
       "      <td>FEMALE</td>\n",
       "      <td>basic</td>\n",
       "      <td>en</td>\n",
       "      <td>direct</td>\n",
       "      <td>untracked</td>\n",
       "      <td>Web</td>\n",
       "      <td>Windows Desktop</td>\n",
       "      <td>IE</td>\n",
       "    </tr>\n",
       "    <tr>\n",
       "      <th>3</th>\n",
       "      <td>FEMALE</td>\n",
       "      <td>facebook</td>\n",
       "      <td>en</td>\n",
       "      <td>direct</td>\n",
       "      <td>untracked</td>\n",
       "      <td>Web</td>\n",
       "      <td>Mac Desktop</td>\n",
       "      <td>Firefox</td>\n",
       "    </tr>\n",
       "    <tr>\n",
       "      <th>6</th>\n",
       "      <td>FEMALE</td>\n",
       "      <td>basic</td>\n",
       "      <td>en</td>\n",
       "      <td>craigslist</td>\n",
       "      <td>untracked</td>\n",
       "      <td>Web</td>\n",
       "      <td>Mac Desktop</td>\n",
       "      <td>Safari</td>\n",
       "    </tr>\n",
       "    <tr>\n",
       "      <th>7</th>\n",
       "      <td>FEMALE</td>\n",
       "      <td>basic</td>\n",
       "      <td>en</td>\n",
       "      <td>direct</td>\n",
       "      <td>omg</td>\n",
       "      <td>Web</td>\n",
       "      <td>Mac Desktop</td>\n",
       "      <td>Safari</td>\n",
       "    </tr>\n",
       "    <tr>\n",
       "      <th>...</th>\n",
       "      <td>...</td>\n",
       "      <td>...</td>\n",
       "      <td>...</td>\n",
       "      <td>...</td>\n",
       "      <td>...</td>\n",
       "      <td>...</td>\n",
       "      <td>...</td>\n",
       "      <td>...</td>\n",
       "    </tr>\n",
       "    <tr>\n",
       "      <th>213440</th>\n",
       "      <td>FEMALE</td>\n",
       "      <td>basic</td>\n",
       "      <td>en</td>\n",
       "      <td>direct</td>\n",
       "      <td>untracked</td>\n",
       "      <td>iOS</td>\n",
       "      <td>iPhone</td>\n",
       "      <td>Mobile Safari</td>\n",
       "    </tr>\n",
       "    <tr>\n",
       "      <th>213441</th>\n",
       "      <td>FEMALE</td>\n",
       "      <td>basic</td>\n",
       "      <td>en</td>\n",
       "      <td>direct</td>\n",
       "      <td>linked</td>\n",
       "      <td>Web</td>\n",
       "      <td>Mac Desktop</td>\n",
       "      <td>Chrome</td>\n",
       "    </tr>\n",
       "    <tr>\n",
       "      <th>213443</th>\n",
       "      <td>FEMALE</td>\n",
       "      <td>basic</td>\n",
       "      <td>en</td>\n",
       "      <td>google</td>\n",
       "      <td>linked</td>\n",
       "      <td>Web</td>\n",
       "      <td>Mac Desktop</td>\n",
       "      <td>Safari</td>\n",
       "    </tr>\n",
       "    <tr>\n",
       "      <th>213445</th>\n",
       "      <td>FEMALE</td>\n",
       "      <td>basic</td>\n",
       "      <td>en</td>\n",
       "      <td>google</td>\n",
       "      <td>omg</td>\n",
       "      <td>Web</td>\n",
       "      <td>Windows Desktop</td>\n",
       "      <td>IE</td>\n",
       "    </tr>\n",
       "    <tr>\n",
       "      <th>213446</th>\n",
       "      <td>MALE</td>\n",
       "      <td>basic</td>\n",
       "      <td>en</td>\n",
       "      <td>google</td>\n",
       "      <td>omg</td>\n",
       "      <td>Web</td>\n",
       "      <td>Mac Desktop</td>\n",
       "      <td>Safari</td>\n",
       "    </tr>\n",
       "  </tbody>\n",
       "</table>\n",
       "<p>108390 rows × 8 columns</p>\n",
       "</div>"
      ],
      "text/plain": [
       "        gender signup_method language affiliate_provider  \\\n",
       "1         MALE      facebook       en             google   \n",
       "2       FEMALE         basic       en             direct   \n",
       "3       FEMALE      facebook       en             direct   \n",
       "6       FEMALE         basic       en         craigslist   \n",
       "7       FEMALE         basic       en             direct   \n",
       "...        ...           ...      ...                ...   \n",
       "213440  FEMALE         basic       en             direct   \n",
       "213441  FEMALE         basic       en             direct   \n",
       "213443  FEMALE         basic       en             google   \n",
       "213445  FEMALE         basic       en             google   \n",
       "213446    MALE         basic       en             google   \n",
       "\n",
       "       first_affiliate_tracked signup_app first_device_type  first_browser  \n",
       "1                    untracked        Web       Mac Desktop         Chrome  \n",
       "2                    untracked        Web   Windows Desktop             IE  \n",
       "3                    untracked        Web       Mac Desktop        Firefox  \n",
       "6                    untracked        Web       Mac Desktop         Safari  \n",
       "7                          omg        Web       Mac Desktop         Safari  \n",
       "...                        ...        ...               ...            ...  \n",
       "213440               untracked        iOS            iPhone  Mobile Safari  \n",
       "213441                  linked        Web       Mac Desktop         Chrome  \n",
       "213443                  linked        Web       Mac Desktop         Safari  \n",
       "213445                     omg        Web   Windows Desktop             IE  \n",
       "213446                     omg        Web       Mac Desktop         Safari  \n",
       "\n",
       "[108390 rows x 8 columns]"
      ]
     },
     "execution_count": 309,
     "metadata": {},
     "output_type": "execute_result"
    }
   ],
   "source": [
    "df[cat_cols]"
   ]
  },
  {
   "cell_type": "markdown",
   "metadata": {},
   "source": [
    "# Correct data:"
   ]
  },
  {
   "cell_type": "code",
   "execution_count": 311,
   "metadata": {},
   "outputs": [
    {
     "data": {
      "text/plain": [
       "['gender',\n",
       " 'age',\n",
       " 'signup_method',\n",
       " 'language',\n",
       " 'affiliate_provider',\n",
       " 'first_affiliate_tracked',\n",
       " 'signup_app',\n",
       " 'first_device_type',\n",
       " 'first_browser',\n",
       " 'country_destination',\n",
       " 'year_account_created',\n",
       " 'month_account_created']"
      ]
     },
     "execution_count": 311,
     "metadata": {},
     "output_type": "execute_result"
    }
   ],
   "source": [
    "df.columns.tolist()"
   ]
  },
  {
   "cell_type": "markdown",
   "metadata": {},
   "source": [
    "**SignUp method**"
   ]
  },
  {
   "cell_type": "code",
   "execution_count": 312,
   "metadata": {},
   "outputs": [
    {
     "data": {
      "text/plain": [
       "signup_method\n",
       "facebook    56851\n",
       "basic       51445\n",
       "google         94\n",
       "Name: count, dtype: int64"
      ]
     },
     "execution_count": 312,
     "metadata": {},
     "output_type": "execute_result"
    }
   ],
   "source": [
    "df.signup_method.value_counts()"
   ]
  },
  {
   "cell_type": "markdown",
   "metadata": {},
   "source": [
    "**Language**"
   ]
  },
  {
   "cell_type": "code",
   "execution_count": 313,
   "metadata": {},
   "outputs": [
    {
     "data": {
      "text/plain": [
       "language\n",
       "en    104218\n",
       "zh       821\n",
       "fr       760\n",
       "es       589\n",
       "ko       374\n",
       "de       364\n",
       "it       349\n",
       "ru       262\n",
       "pt       168\n",
       "ja       123\n",
       "sv        75\n",
       "nl        46\n",
       "pl        41\n",
       "tr        40\n",
       "da        30\n",
       "el        21\n",
       "cs        19\n",
       "no        18\n",
       "th        18\n",
       "id        17\n",
       "hu        16\n",
       "fi        11\n",
       "ca         4\n",
       "is         4\n",
       "hr         2\n",
       "Name: count, dtype: int64"
      ]
     },
     "execution_count": 313,
     "metadata": {},
     "output_type": "execute_result"
    }
   ],
   "source": [
    "df.language.value_counts()"
   ]
  },
  {
   "cell_type": "code",
   "execution_count": 314,
   "metadata": {},
   "outputs": [],
   "source": [
    "rep_value_language = {\n",
    "    'en': 'english',\n",
    "    'zh': 'chinese',\n",
    "    'fr': 'french',\n",
    "    'es': 'spanish',\n",
    "    'de': 'german',\n",
    "    'ko': 'korean',\n",
    "    'it': 'italian',\n",
    "    'ru': 'russian',\n",
    "    'pt': 'other',\n",
    "    'ja': 'other',\n",
    "    'sv': 'other',\n",
    "    'nl': 'other',\n",
    "    'tr': 'other',\n",
    "    'pl': 'other',\n",
    "    'da': 'other',\n",
    "    'el': 'other',\n",
    "    'no': 'other',\n",
    "    'cs': 'other',\n",
    "    'th': 'other',\n",
    "    'id': 'other',\n",
    "    'hu': 'other',\n",
    "    'fi': 'other',\n",
    "    'ca': 'other',\n",
    "    'is': 'other',\n",
    "    'hr': 'other'\n",
    "}\n",
    "df['language'] = df.language.replace(rep_value_language)"
   ]
  },
  {
   "cell_type": "markdown",
   "metadata": {},
   "source": [
    "**Affiliate provider**"
   ]
  },
  {
   "cell_type": "code",
   "execution_count": 315,
   "metadata": {},
   "outputs": [
    {
     "data": {
      "text/plain": [
       "affiliate_provider\n",
       "direct                 68792\n",
       "google                 25624\n",
       "other                   7743\n",
       "craigslist              1896\n",
       "facebook                1499\n",
       "bing                    1059\n",
       "padmapper                410\n",
       "facebook-open-graph      389\n",
       "vast                     335\n",
       "yahoo                    225\n",
       "gsp                      172\n",
       "meetup                   126\n",
       "email-marketing           67\n",
       "naver                     23\n",
       "yandex                    14\n",
       "baidu                     13\n",
       "wayn                       3\n",
       "Name: count, dtype: int64"
      ]
     },
     "execution_count": 315,
     "metadata": {},
     "output_type": "execute_result"
    }
   ],
   "source": [
    "# where the marketing is e.g. google, craigslist, other\n",
    "\n",
    "df.affiliate_provider.value_counts()"
   ]
  },
  {
   "cell_type": "raw",
   "metadata": {},
   "source": [
    "craigslist: Advertising company\n",
    "padmapper: Company\n",
    "meetup: Social network\n",
    "naver: South Korean online platform\n",
    "baidu: Internet company\n",
    "yandex: Internet services company\n",
    "wayn: website"
   ]
  },
  {
   "cell_type": "code",
   "execution_count": 316,
   "metadata": {},
   "outputs": [],
   "source": [
    "rep_value_affiliate_provider = {\n",
    "    'craigslist': 'other',\n",
    "    'padmapper': 'other',\n",
    "    'facebook-open-graph': 'facebook',\n",
    "    'vast': 'other',\n",
    "    'gsp': 'other',\n",
    "    'meetup': 'other',\n",
    "    'email-marketing': 'other',\n",
    "    'naver': 'other',\n",
    "    'baidu': 'other',\n",
    "    'yandex': 'other',\n",
    "    'wayn': 'other'\n",
    "}\n",
    "\n",
    "df['affiliate_provider'] = df.affiliate_provider.replace(rep_value_affiliate_provider)"
   ]
  },
  {
   "cell_type": "markdown",
   "metadata": {},
   "source": [
    "**First affiliate tracked**"
   ]
  },
  {
   "cell_type": "code",
   "execution_count": 317,
   "metadata": {},
   "outputs": [
    {
     "data": {
      "text/plain": [
       "first_affiliate_tracked\n",
       "untracked        57604\n",
       "linked           24730\n",
       "omg              21751\n",
       "tracked-other     3469\n",
       "product            720\n",
       "marketing           91\n",
       "local ops           25\n",
       "Name: count, dtype: int64"
      ]
     },
     "execution_count": 317,
     "metadata": {},
     "output_type": "execute_result"
    }
   ],
   "source": [
    "# whats the first marketing the user interacted with before the signing up\n",
    "\n",
    "df.first_affiliate_tracked.value_counts()"
   ]
  },
  {
   "cell_type": "raw",
   "metadata": {},
   "source": [
    "omg: affiliate website"
   ]
  },
  {
   "cell_type": "markdown",
   "metadata": {},
   "source": [
    "Here I'm going to convert all values except untracked to marketing, because all the tracking affiliates are from marketing"
   ]
  },
  {
   "cell_type": "code",
   "execution_count": 318,
   "metadata": {},
   "outputs": [],
   "source": [
    "rep_value_first_affiliate_tracked = {\n",
    "    'linked': 'ads',\n",
    "    'omg': 'ads',\n",
    "    'tracked-other': 'ads',\n",
    "    'local ops': 'local business'\n",
    "}\n",
    "\n",
    "df['first_affiliate_tracked'] = df.first_affiliate_tracked.replace(rep_value_first_affiliate_tracked)"
   ]
  },
  {
   "cell_type": "markdown",
   "metadata": {},
   "source": [
    "**SignUp App**"
   ]
  },
  {
   "cell_type": "code",
   "execution_count": 319,
   "metadata": {},
   "outputs": [
    {
     "data": {
      "text/plain": [
       "signup_app\n",
       "Web        95712\n",
       "iOS         8747\n",
       "Android     1972\n",
       "Moweb       1959\n",
       "Name: count, dtype: int64"
      ]
     },
     "execution_count": 319,
     "metadata": {},
     "output_type": "execute_result"
    }
   ],
   "source": [
    "df.signup_app.value_counts()"
   ]
  },
  {
   "cell_type": "markdown",
   "metadata": {},
   "source": [
    "**First device type**"
   ]
  },
  {
   "cell_type": "code",
   "execution_count": 320,
   "metadata": {},
   "outputs": [
    {
     "data": {
      "text/plain": [
       "first_device_type\n",
       "Mac Desktop           50481\n",
       "Windows Desktop       36295\n",
       "iPhone                 9126\n",
       "iPad                   6624\n",
       "Other/Unknown          3575\n",
       "Android Phone          1078\n",
       "Desktop (Other)         644\n",
       "Android Tablet          530\n",
       "SmartPhone (Other)       37\n",
       "Name: count, dtype: int64"
      ]
     },
     "execution_count": 320,
     "metadata": {},
     "output_type": "execute_result"
    }
   ],
   "source": [
    "df.first_device_type.value_counts()"
   ]
  },
  {
   "cell_type": "code",
   "execution_count": 321,
   "metadata": {},
   "outputs": [],
   "source": [
    "rep_value_device_type = {\n",
    "    'Mac Desktop': 'MacBook',\n",
    "    'Windows Desktop': 'Laptop',\n",
    "    'Other/Unknown': 'Android Phone',\n",
    "    'Desktop (Other)': 'Laptop',\n",
    "    'SmartPhone (Other)': 'Android Phone',\n",
    "    'Other': 'Android Phone'\n",
    "}\n",
    "\n",
    "df['first_device_type'] = df.first_device_type.replace(rep_value_device_type)"
   ]
  },
  {
   "cell_type": "markdown",
   "metadata": {},
   "source": [
    "**First browser**"
   ]
  },
  {
   "cell_type": "code",
   "execution_count": 322,
   "metadata": {},
   "outputs": [
    {
     "data": {
      "text/plain": [
       "first_browser\n",
       "Chrome                36478\n",
       "Safari                24145\n",
       "Firefox               17751\n",
       "-unknown-             10620\n",
       "IE                     9079\n",
       "Mobile Safari          8957\n",
       "Chrome Mobile           492\n",
       "Android Browser         363\n",
       "Opera                    99\n",
       "AOL Explorer             89\n",
       "Silk                     69\n",
       "Chromium                 42\n",
       "BlackBerry Browser       34\n",
       "Maxthon                  25\n",
       "RockMelt                 20\n",
       "Apple Mail               19\n",
       "Mobile Firefox           14\n",
       "Sogou Explorer           12\n",
       "IceWeasel                10\n",
       "Iron                      9\n",
       "Yandex.Browser            9\n",
       "IE Mobile                 9\n",
       "Pale Moon                 6\n",
       "SiteKiosk                 6\n",
       "CoolNovo                  4\n",
       "Camino                    4\n",
       "Avant Browser             4\n",
       "TenFourFox                3\n",
       "TheWorld Browser          2\n",
       "Opera Mobile              2\n",
       "Opera Mini                2\n",
       "Mozilla                   2\n",
       "wOSBrowser                2\n",
       "NetNewsWire               1\n",
       "PS Vita browser           1\n",
       "SeaMonkey                 1\n",
       "CometBird                 1\n",
       "Kindle Browser            1\n",
       "SlimBrowser               1\n",
       "Comodo Dragon             1\n",
       "Stainless                 1\n",
       "Name: count, dtype: int64"
      ]
     },
     "execution_count": 322,
     "metadata": {},
     "output_type": "execute_result"
    }
   ],
   "source": [
    "df.first_browser.value_counts()"
   ]
  },
  {
   "cell_type": "code",
   "execution_count": 323,
   "metadata": {},
   "outputs": [],
   "source": [
    "rep_value_browser = {\n",
    "    'Chrome': 'Google Chrome',\n",
    "    '-unknown-': 'Other Browser',\n",
    "    'IE': 'Microsoft Edge',\n",
    "    'Mobile Safari': 'Safari',\n",
    "    'Chrome Mobile': 'Google Chrome',\n",
    "    'Android Browser': 'Other Browser',\n",
    "    'AOL Explorer': 'Other Browser',\n",
    "    'Silk': 'Other Browser',\n",
    "    'Chromium': 'Google Chrome',\n",
    "    'BlackBerry Browser': 'Other Browser',\n",
    "    'Maxthon': 'Other Browser',\n",
    "    'Apple Mail': 'Safari',\n",
    "    'RockMel': 'Other Browser',\n",
    "    'Mobile Firefox': 'Firefox',\n",
    "    'Sogou Explorer': 'Other Browser',\n",
    "    'IE Mobile': 'Microsoft Edge',\n",
    "    'SiteKiosk': 'Other Browser',\n",
    "    'Iron': 'Other Browser',\n",
    "    'IceWeasel': 'Other Browser',\n",
    "    'Yandex.Browser': 'Other Browser',\n",
    "    'Pale Moon': 'Other Browser',\n",
    "    'Camino': 'Other Browser',\n",
    "    'CoolNovo': 'Other Browser',\n",
    "    'Avant Browser': 'Other Browser',\n",
    "    'SeaMonkey': 'Other Browser',\n",
    "    'SlimBrowser': 'Other Browser',\n",
    "    'TheWorld Browser': 'Other Browser',\n",
    "    'Opera Mobile': 'Opera',\n",
    "    'Mozilla': 'Firefox',\n",
    "    'wOSBrowser': 'Other Browser',\n",
    "    'Opera Mini': 'Other Browser',\n",
    "    'NetNewsWire': 'Other Browser',\n",
    "    'PS Vita browser': 'Other Browser',\n",
    "    'CometBird': 'Other Browser',\n",
    "    'Kindle Browser': 'Other Browser',\n",
    "    'Comodo Dragon': 'Other Browser',\n",
    "    'Stainless': 'Other Browser',\n",
    "    'TenFourFox': 'Other Browser',\n",
    "    'RockMelt': 'Other Browser'\n",
    "}\n",
    "\n",
    "df['first_browser'] = df.first_browser.replace(rep_value_browser)"
   ]
  },
  {
   "cell_type": "markdown",
   "metadata": {},
   "source": [
    "**Country destination**"
   ]
  },
  {
   "cell_type": "raw",
   "metadata": {},
   "source": [
    "My goal is to inform users if they will books or just will lose their time one the app.\n",
    "\n",
    "So I will convert all the countries values to Booked and NDF to LoseTime."
   ]
  },
  {
   "cell_type": "code",
   "execution_count": 324,
   "metadata": {},
   "outputs": [
    {
     "data": {
      "text/plain": [
       "country_destination\n",
       "NDF      52057\n",
       "US       39866\n",
       "other     6212\n",
       "FR        3070\n",
       "IT        1671\n",
       "GB        1479\n",
       "ES        1432\n",
       "CA         874\n",
       "DE         726\n",
       "NL         498\n",
       "AU         371\n",
       "PT         134\n",
       "Name: count, dtype: int64"
      ]
     },
     "execution_count": 324,
     "metadata": {},
     "output_type": "execute_result"
    }
   ],
   "source": [
    "df.country_destination.value_counts()"
   ]
  },
  {
   "cell_type": "code",
   "execution_count": 329,
   "metadata": {},
   "outputs": [],
   "source": [
    "rep_value_destination = {\n",
    "    'NDF': 'LoseTime',      \n",
    "    'US': 'Booked',   \n",
    "    'other': 'Booked',\n",
    "    'FR': 'Booked',\n",
    "    'IT': 'Booked',\n",
    "    'GB': 'Booked',\n",
    "    'ES': 'Booked',\n",
    "    'CA': 'Booked',\n",
    "    'DE': 'Booked',\n",
    "    'NL': 'Booked',\n",
    "    'AU': 'Booked',\n",
    "    'PT': 'Booked'\n",
    "}\n",
    "\n",
    "df['country_destination'] = df.country_destination.replace(rep_value_destination)\n",
    "\n",
    "df.rename(columns={'country_destination': 'TARGET'}, inplace=True)"
   ]
  },
  {
   "cell_type": "code",
   "execution_count": 330,
   "metadata": {},
   "outputs": [
    {
     "data": {
      "text/html": [
       "<div>\n",
       "<style scoped>\n",
       "    .dataframe tbody tr th:only-of-type {\n",
       "        vertical-align: middle;\n",
       "    }\n",
       "\n",
       "    .dataframe tbody tr th {\n",
       "        vertical-align: top;\n",
       "    }\n",
       "\n",
       "    .dataframe thead th {\n",
       "        text-align: right;\n",
       "    }\n",
       "</style>\n",
       "<table border=\"1\" class=\"dataframe\">\n",
       "  <thead>\n",
       "    <tr style=\"text-align: right;\">\n",
       "      <th></th>\n",
       "      <th>gender</th>\n",
       "      <th>age</th>\n",
       "      <th>signup_method</th>\n",
       "      <th>language</th>\n",
       "      <th>affiliate_provider</th>\n",
       "      <th>first_affiliate_tracked</th>\n",
       "      <th>signup_app</th>\n",
       "      <th>first_device_type</th>\n",
       "      <th>first_browser</th>\n",
       "      <th>TARGET</th>\n",
       "      <th>year_account_created</th>\n",
       "      <th>month_account_created</th>\n",
       "    </tr>\n",
       "  </thead>\n",
       "  <tbody>\n",
       "    <tr>\n",
       "      <th>1</th>\n",
       "      <td>MALE</td>\n",
       "      <td>38.0</td>\n",
       "      <td>facebook</td>\n",
       "      <td>english</td>\n",
       "      <td>google</td>\n",
       "      <td>untracked</td>\n",
       "      <td>Web</td>\n",
       "      <td>MacBook</td>\n",
       "      <td>Google Chrome</td>\n",
       "      <td>LoseTime</td>\n",
       "      <td>2011</td>\n",
       "      <td>5</td>\n",
       "    </tr>\n",
       "    <tr>\n",
       "      <th>2</th>\n",
       "      <td>FEMALE</td>\n",
       "      <td>56.0</td>\n",
       "      <td>basic</td>\n",
       "      <td>english</td>\n",
       "      <td>direct</td>\n",
       "      <td>untracked</td>\n",
       "      <td>Web</td>\n",
       "      <td>Laptop</td>\n",
       "      <td>Microsoft Edge</td>\n",
       "      <td>Booked</td>\n",
       "      <td>2010</td>\n",
       "      <td>9</td>\n",
       "    </tr>\n",
       "    <tr>\n",
       "      <th>3</th>\n",
       "      <td>FEMALE</td>\n",
       "      <td>42.0</td>\n",
       "      <td>facebook</td>\n",
       "      <td>english</td>\n",
       "      <td>direct</td>\n",
       "      <td>untracked</td>\n",
       "      <td>Web</td>\n",
       "      <td>MacBook</td>\n",
       "      <td>Firefox</td>\n",
       "      <td>Booked</td>\n",
       "      <td>2011</td>\n",
       "      <td>12</td>\n",
       "    </tr>\n",
       "    <tr>\n",
       "      <th>6</th>\n",
       "      <td>FEMALE</td>\n",
       "      <td>46.0</td>\n",
       "      <td>basic</td>\n",
       "      <td>english</td>\n",
       "      <td>other</td>\n",
       "      <td>untracked</td>\n",
       "      <td>Web</td>\n",
       "      <td>MacBook</td>\n",
       "      <td>Safari</td>\n",
       "      <td>Booked</td>\n",
       "      <td>2010</td>\n",
       "      <td>1</td>\n",
       "    </tr>\n",
       "    <tr>\n",
       "      <th>7</th>\n",
       "      <td>FEMALE</td>\n",
       "      <td>47.0</td>\n",
       "      <td>basic</td>\n",
       "      <td>english</td>\n",
       "      <td>direct</td>\n",
       "      <td>ads</td>\n",
       "      <td>Web</td>\n",
       "      <td>MacBook</td>\n",
       "      <td>Safari</td>\n",
       "      <td>Booked</td>\n",
       "      <td>2010</td>\n",
       "      <td>1</td>\n",
       "    </tr>\n",
       "    <tr>\n",
       "      <th>...</th>\n",
       "      <td>...</td>\n",
       "      <td>...</td>\n",
       "      <td>...</td>\n",
       "      <td>...</td>\n",
       "      <td>...</td>\n",
       "      <td>...</td>\n",
       "      <td>...</td>\n",
       "      <td>...</td>\n",
       "      <td>...</td>\n",
       "      <td>...</td>\n",
       "      <td>...</td>\n",
       "      <td>...</td>\n",
       "    </tr>\n",
       "    <tr>\n",
       "      <th>213440</th>\n",
       "      <td>FEMALE</td>\n",
       "      <td>24.0</td>\n",
       "      <td>basic</td>\n",
       "      <td>english</td>\n",
       "      <td>direct</td>\n",
       "      <td>untracked</td>\n",
       "      <td>iOS</td>\n",
       "      <td>iPhone</td>\n",
       "      <td>Safari</td>\n",
       "      <td>LoseTime</td>\n",
       "      <td>2014</td>\n",
       "      <td>6</td>\n",
       "    </tr>\n",
       "    <tr>\n",
       "      <th>213441</th>\n",
       "      <td>FEMALE</td>\n",
       "      <td>34.0</td>\n",
       "      <td>basic</td>\n",
       "      <td>english</td>\n",
       "      <td>direct</td>\n",
       "      <td>ads</td>\n",
       "      <td>Web</td>\n",
       "      <td>MacBook</td>\n",
       "      <td>Google Chrome</td>\n",
       "      <td>Booked</td>\n",
       "      <td>2014</td>\n",
       "      <td>6</td>\n",
       "    </tr>\n",
       "    <tr>\n",
       "      <th>213443</th>\n",
       "      <td>FEMALE</td>\n",
       "      <td>36.0</td>\n",
       "      <td>basic</td>\n",
       "      <td>english</td>\n",
       "      <td>google</td>\n",
       "      <td>ads</td>\n",
       "      <td>Web</td>\n",
       "      <td>MacBook</td>\n",
       "      <td>Safari</td>\n",
       "      <td>Booked</td>\n",
       "      <td>2014</td>\n",
       "      <td>6</td>\n",
       "    </tr>\n",
       "    <tr>\n",
       "      <th>213445</th>\n",
       "      <td>FEMALE</td>\n",
       "      <td>23.0</td>\n",
       "      <td>basic</td>\n",
       "      <td>english</td>\n",
       "      <td>google</td>\n",
       "      <td>ads</td>\n",
       "      <td>Web</td>\n",
       "      <td>Laptop</td>\n",
       "      <td>Microsoft Edge</td>\n",
       "      <td>Booked</td>\n",
       "      <td>2014</td>\n",
       "      <td>6</td>\n",
       "    </tr>\n",
       "    <tr>\n",
       "      <th>213446</th>\n",
       "      <td>MALE</td>\n",
       "      <td>32.0</td>\n",
       "      <td>basic</td>\n",
       "      <td>english</td>\n",
       "      <td>google</td>\n",
       "      <td>ads</td>\n",
       "      <td>Web</td>\n",
       "      <td>MacBook</td>\n",
       "      <td>Safari</td>\n",
       "      <td>LoseTime</td>\n",
       "      <td>2014</td>\n",
       "      <td>6</td>\n",
       "    </tr>\n",
       "  </tbody>\n",
       "</table>\n",
       "<p>108390 rows × 12 columns</p>\n",
       "</div>"
      ],
      "text/plain": [
       "        gender   age signup_method language affiliate_provider  \\\n",
       "1         MALE  38.0      facebook  english             google   \n",
       "2       FEMALE  56.0         basic  english             direct   \n",
       "3       FEMALE  42.0      facebook  english             direct   \n",
       "6       FEMALE  46.0         basic  english              other   \n",
       "7       FEMALE  47.0         basic  english             direct   \n",
       "...        ...   ...           ...      ...                ...   \n",
       "213440  FEMALE  24.0         basic  english             direct   \n",
       "213441  FEMALE  34.0         basic  english             direct   \n",
       "213443  FEMALE  36.0         basic  english             google   \n",
       "213445  FEMALE  23.0         basic  english             google   \n",
       "213446    MALE  32.0         basic  english             google   \n",
       "\n",
       "       first_affiliate_tracked signup_app first_device_type   first_browser  \\\n",
       "1                    untracked        Web           MacBook   Google Chrome   \n",
       "2                    untracked        Web            Laptop  Microsoft Edge   \n",
       "3                    untracked        Web           MacBook         Firefox   \n",
       "6                    untracked        Web           MacBook          Safari   \n",
       "7                          ads        Web           MacBook          Safari   \n",
       "...                        ...        ...               ...             ...   \n",
       "213440               untracked        iOS            iPhone          Safari   \n",
       "213441                     ads        Web           MacBook   Google Chrome   \n",
       "213443                     ads        Web           MacBook          Safari   \n",
       "213445                     ads        Web            Laptop  Microsoft Edge   \n",
       "213446                     ads        Web           MacBook          Safari   \n",
       "\n",
       "          TARGET  year_account_created  month_account_created  \n",
       "1       LoseTime                  2011                      5  \n",
       "2         Booked                  2010                      9  \n",
       "3         Booked                  2011                     12  \n",
       "6         Booked                  2010                      1  \n",
       "7         Booked                  2010                      1  \n",
       "...          ...                   ...                    ...  \n",
       "213440  LoseTime                  2014                      6  \n",
       "213441    Booked                  2014                      6  \n",
       "213443    Booked                  2014                      6  \n",
       "213445    Booked                  2014                      6  \n",
       "213446  LoseTime                  2014                      6  \n",
       "\n",
       "[108390 rows x 12 columns]"
      ]
     },
     "execution_count": 330,
     "metadata": {},
     "output_type": "execute_result"
    }
   ],
   "source": [
    "df"
   ]
  },
  {
   "cell_type": "code",
   "execution_count": 332,
   "metadata": {},
   "outputs": [],
   "source": [
    "df.to_csv('users_data_cleaned.csv', index=False)"
   ]
  },
  {
   "cell_type": "code",
   "execution_count": null,
   "metadata": {},
   "outputs": [],
   "source": []
  }
 ],
 "metadata": {
  "colab": {
   "collapsed_sections": [
    "0GPaeU2QLpWi",
    "miWufX5oLuBj",
    "__wPDQh30rEo",
    "O6KNAwPD0xrX",
    "TrsNPzt51JQi",
    "zeYhZlHY1PgY",
    "OqGzlnXK1Smq",
    "JW5b8-tj1bwd",
    "8gF7rVxM1f-9",
    "uvsfry3b1iiv",
    "wLaQC5Hr1pYv",
    "AQiLUKDg1rvA",
    "5TnsADMu2mGf",
    "1s9-pXuezqmg",
    "BQZXXc2grs7Y",
    "Ep1bO-8y03DH",
    "zHkEJd_E0ZAH",
    "HrXKo-2h1wUS",
    "HZ-M9F9l1AGl",
    "ulQayboj2ArT",
    "yDXgI2n-2FO8",
    "LmExNrFO2SOK",
    "fO_FONJW2Mzv",
    "p8s-7Wu42VtR",
    "8MpQUXAV-QXz"
   ],
   "gpuType": "T4",
   "provenance": []
  },
  "kernelspec": {
   "display_name": "Python 3 (ipykernel)",
   "language": "python",
   "name": "python3"
  },
  "language_info": {
   "codemirror_mode": {
    "name": "ipython",
    "version": 3
   },
   "file_extension": ".py",
   "mimetype": "text/x-python",
   "name": "python",
   "nbconvert_exporter": "python",
   "pygments_lexer": "ipython3",
   "version": "3.11.4"
  }
 },
 "nbformat": 4,
 "nbformat_minor": 1
}
